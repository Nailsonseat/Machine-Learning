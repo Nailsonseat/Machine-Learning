{
 "cells": [
  {
   "cell_type": "markdown",
   "metadata": {
    "id": "_-ZqT1n9pmYA"
   },
   "source": [
    "## Perceptron"
   ]
  },
  {
   "cell_type": "code",
   "execution_count": 129,
   "metadata": {
    "id": "3TDibK0Yrxm_"
   },
   "outputs": [],
   "source": [
    "import numpy as np\n",
    "import matplotlib.pyplot as plt"
   ]
  },
  {
   "cell_type": "markdown",
   "metadata": {
    "id": "1TBHlt7hAdN1"
   },
   "source": [
    "# Week-9\n",
    "\n",
    "**Note to Learners**: \n",
    "\n",
    "- For questions that involve plotting, just enter $0$ as the answer in the portal.\n"
   ]
  },
  {
   "cell_type": "markdown",
   "metadata": {
    "id": "XJKrscLo9qwH"
   },
   "source": [
    "## Dataset\n",
    "\n",
    "Run the cell given below to generate the data-matrix $\\mathbf{X}$, which is of shape $(n, d)$, where $n$ denotes the number of samples and $d$ denotes the number of features. \n",
    "\n",
    "**Do not edit this cell.**"
   ]
  },
  {
   "cell_type": "code",
   "execution_count": 130,
   "metadata": {
    "id": "d_H2VRQNsLly"
   },
   "outputs": [],
   "source": [
    "from sklearn.datasets import make_classification\n",
    "X, y = make_classification(n_samples=50, n_features=2, n_informative = 2, n_redundant = 0, n_clusters_per_class = 1, flip_y = 0, class_sep = 3, random_state=20)"
   ]
  },
  {
   "cell_type": "markdown",
   "metadata": {
    "id": "VAONMkaU91v7"
   },
   "source": [
    "## Problem 1\n",
    "How many samples are there in the dataset?\n",
    "\n"
   ]
  },
  {
   "cell_type": "code",
   "execution_count": 131,
   "metadata": {},
   "outputs": [
    {
     "data": {
      "text/plain": [
       "50"
      ]
     },
     "execution_count": 131,
     "metadata": {},
     "output_type": "execute_result"
    }
   ],
   "source": [
    "X.shape[0]"
   ]
  },
  {
   "cell_type": "markdown",
   "metadata": {
    "id": "ozjMS6e_91y3"
   },
   "source": [
    "## Problem 2\n",
    "\n",
    "How many features are there in the dataset?\n"
   ]
  },
  {
   "cell_type": "code",
   "execution_count": 132,
   "metadata": {},
   "outputs": [
    {
     "data": {
      "text/plain": [
       "2"
      ]
     },
     "execution_count": 132,
     "metadata": {},
     "output_type": "execute_result"
    }
   ],
   "source": [
    "X.shape[1]"
   ]
  },
  {
   "cell_type": "markdown",
   "metadata": {
    "id": "BOuGvyBUrGUH"
   },
   "source": [
    "## Problem 3\n",
    "In the target vector $y$, replace all occurrences of 0 with -1. \n",
    "\n",
    "How many unique classes are there in the target vector?\n",
    "\n"
   ]
  },
  {
   "cell_type": "code",
   "execution_count": 133,
   "metadata": {},
   "outputs": [],
   "source": [
    "y[y == 0] = -1"
   ]
  },
  {
   "cell_type": "code",
   "execution_count": 134,
   "metadata": {},
   "outputs": [
    {
     "data": {
      "text/plain": [
       "array([-1,  1])"
      ]
     },
     "execution_count": 134,
     "metadata": {},
     "output_type": "execute_result"
    }
   ],
   "source": [
    "np.unique(y)"
   ]
  },
  {
   "cell_type": "markdown",
   "metadata": {
    "id": "2mjZDVoIqzkJ"
   },
   "source": [
    "## Problem 4\n",
    "Plot the data keepig first feature on the x-axis and the second feature on the y-axis. Plot the data points belonging to each class in different colors. Does the data seem linearly separable?\n",
    "\n",
    "[MCQ]\n",
    "\n",
    "**Options:**\n",
    "\n",
    "(a) Yes\n",
    "\n",
    "(b) No\n",
    "\n"
   ]
  },
  {
   "cell_type": "code",
   "execution_count": 135,
   "metadata": {},
   "outputs": [
    {
     "data": {
      "text/plain": [
       "[<matplotlib.lines.Line2D at 0x2713ef84970>]"
      ]
     },
     "execution_count": 135,
     "metadata": {},
     "output_type": "execute_result"
    },
    {
     "data": {
      "image/png": "[encoded data removed]",
      "text/plain": [
       "<Figure size 640x480 with 1 Axes>"
      ]
     },
     "metadata": {},
     "output_type": "display_data"
    }
   ],
   "source": [
    "plt.plot(X[:,0][y == 1], X[ :,1][y == 1], 'bo')\n",
    "plt.plot(X[:,0][y == -1], X[ :,1][y == -1], 'ro')"
   ]
  },
  {
   "cell_type": "markdown",
   "metadata": {
    "id": "wBvVzKA-u9YM"
   },
   "source": [
    "## Problem 5\n",
    "\n",
    "Initialize w to be a zero vector, with shape equal to the number of features in the data.\n",
    "\n",
    "Iterate over each data point $x$ in $X$ one by one (in the same sequence as present in $X$). For each data point, compute the value of $w^Tx$. If $w^Tx \\ge 0$, predict positive class for $x$, else predict the negative class.\n",
    "\n",
    "If prediction does not match the actual class label, update the weight vector as per the following update rule:\n",
    "$$w_{new} = w_{old} + xy$$ where $x$ is the data point and $y$ is the actual label of $x$.\n",
    "\n",
    "Run the above for 10 epochs (iterations), but stop if there are no weight updates in an epoch. \n",
    "\n",
    "In which iteration, does the number of weight updates becomes zero for the first time?\n",
    "\n",
    "[NAT]\n",
    "**Options**\n",
    "\n",
    "(a) 1\n",
    "\n",
    "(b) 2\n",
    "\n",
    "(c) 3\n",
    "\n",
    "(d) 5\n",
    "\n"
   ]
  },
  {
   "cell_type": "code",
   "execution_count": 136,
   "metadata": {},
   "outputs": [
    {
     "name": "stdout",
     "output_type": "stream",
     "text": [
      "the vector w1 is [2.53147281 3.04571493]\n",
      "number of total correct predictions in epoch 1= 7\n",
      "the vector w2 is [ 6.88956746 -1.15300462]\n",
      "number of total correct predictions in epoch 2= 0\n",
      "number of total correct predictions in epoch 3= 50\n",
      "number of total correct predictions in epoch 4= 50\n",
      "number of total correct predictions in epoch 5= 50\n",
      "number of total correct predictions in epoch 6= 50\n",
      "number of total correct predictions in epoch 7= 50\n",
      "number of total correct predictions in epoch 8= 50\n",
      "number of total correct predictions in epoch 9= 50\n",
      "number of total correct predictions in epoch 10= 50\n"
     ]
    }
   ],
   "source": [
    "w = np.zeros(X.shape[1])\n",
    "for i in range(1,11):\n",
    "    corr_pred = 0\n",
    "    for j in range(len(X)):\n",
    "        y_pred = 1 if w.T@X[j] >= 0 else -1\n",
    "        #print(y_pred,y[j])\n",
    "        if y_pred == y[j]:\n",
    "            corr_pred = corr_pred + 1\n",
    "            pass\n",
    "        else:\n",
    "            if y[j] == 1:\n",
    "                w = w + X[j]\n",
    "            elif y[j] == -1:\n",
    "                w = w - X[j]\n",
    "            print(f'the vector w{i} is {w}')\n",
    "            break\n",
    "    print(f'number of total correct predictions in epoch {i}=', corr_pred)   \n",
    "            "
   ]
  },
  {
   "cell_type": "markdown",
   "metadata": {
    "id": "3zs84_zyUMZG"
   },
   "source": [
    "## Problem 6\n",
    "Plot the vector w and the decision boundary thus obtained.\n",
    "\n"
   ]
  },
  {
   "cell_type": "code",
   "execution_count": 137,
   "metadata": {},
   "outputs": [
    {
     "data": {
      "image/png": "[encoded data removed]",
      "text/plain": [
       "<Figure size 640x480 with 1 Axes>"
      ]
     },
     "metadata": {},
     "output_type": "display_data"
    }
   ],
   "source": [
    "# Creating plot\n",
    "plt.plot(X[:,0][y == 1], X[ :,1][y == 1], 'bo')\n",
    "plt.plot(X[:,0][y == -1], X[ :,1][y == -1], 'ro')\n",
    "plt.quiver(0, 0, w[0], w[1], scale = 30, color = 'g')\n",
    "plt.quiver(0, 0, -w[1], w[0], scale = 5, color = 'y', headaxislength = 0, headlength = 0)\n",
    "plt.quiver(0, 0, w[1], -w[0], scale = 5, color = 'y', headaxislength = 0, headlength = 0)\n",
    "plt.ylim(-6,6)\n",
    "plt.grid()"
   ]
  },
  {
   "cell_type": "markdown",
   "metadata": {
    "id": "8jRORev-U_AQ"
   },
   "source": [
    "## Problem 7\n",
    "What is the value of loss using the weight vector obtained earlier?  \n"
   ]
  },
  {
   "cell_type": "code",
   "execution_count": 138,
   "metadata": {},
   "outputs": [
    {
     "data": {
      "text/plain": [
       "0"
      ]
     },
     "execution_count": 138,
     "metadata": {},
     "output_type": "execute_result"
    }
   ],
   "source": [
    "# 0-1 loss\n",
    "loss = 0\n",
    "for j in range(len(X)):\n",
    "        y_pred = 1 if w.T@X[j] >= 0 else -1\n",
    "        if y_pred != y[j]:\n",
    "            loss += 1 \n",
    "loss"
   ]
  },
  {
   "cell_type": "markdown",
   "metadata": {
    "id": "6Mv5kTYtVZ39"
   },
   "source": [
    "## Problem 8\n",
    "Now use the following data set, replace occurrences of 0 with -1 and visualize.\n",
    "\n",
    "**Do not edit the following cell.**\n",
    "\n"
   ]
  },
  {
   "cell_type": "code",
   "execution_count": 139,
   "metadata": {
    "id": "27pznw-oVeFq"
   },
   "outputs": [],
   "source": [
    "from sklearn.datasets import make_classification\n",
    "X, y = make_classification(n_samples=50, n_features=2, n_informative = 2, n_redundant = 0, n_clusters_per_class = 1, flip_y = 0.1, class_sep = 2, random_state=20)"
   ]
  },
  {
   "cell_type": "markdown",
   "metadata": {
    "id": "jLlsj651cjtm"
   },
   "source": [
    "## Problem 9\n",
    "\n",
    "Apply the Perceptron code again. \n",
    "\n",
    "What is the number of weight updates performed in epoch 10?\n",
    "\n"
   ]
  },
  {
   "cell_type": "code",
   "execution_count": 140,
   "metadata": {},
   "outputs": [
    {
     "data": {
      "text/plain": [
       "[<matplotlib.lines.Line2D at 0x2713f1bdb50>]"
      ]
     },
     "execution_count": 140,
     "metadata": {},
     "output_type": "execute_result"
    },
    {
     "data": {
      "image/png": "[encoded data removed]",
      "text/plain": [
       "<Figure size 640x480 with 1 Axes>"
      ]
     },
     "metadata": {},
     "output_type": "display_data"
    }
   ],
   "source": [
    "y[y == 0] = -1\n",
    "plt.plot(X[:,0][y == 1], X[ :,1][y == 1], 'bo')\n",
    "plt.plot(X[:,0][y == -1], X[ :,1][y == -1], 'ro')"
   ]
  },
  {
   "cell_type": "code",
   "execution_count": 144,
   "metadata": {},
   "outputs": [
    {
     "name": "stdout",
     "output_type": "stream",
     "text": [
      "number of total incorrect predictions in epoch 1= 13\n",
      "number of total incorrect predictions in epoch 2= 11\n",
      "number of total incorrect predictions in epoch 3= 12\n",
      "number of total incorrect predictions in epoch 4= 11\n",
      "number of total incorrect predictions in epoch 5= 11\n",
      "number of total incorrect predictions in epoch 6= 10\n",
      "number of total incorrect predictions in epoch 7= 11\n",
      "number of total incorrect predictions in epoch 8= 11\n",
      "number of total incorrect predictions in epoch 9= 11\n",
      "number of total incorrect predictions in epoch 10= 11\n"
     ]
    }
   ],
   "source": [
    "w = np.zeros(X.shape[1])\n",
    "for i in range(1,11):\n",
    "    incorr_pred = 0\n",
    "    for j in range(len(X)):\n",
    "        y_pred = 1 if w.T@X[j] >= 0 else -1\n",
    "        if y_pred == y[j]:\n",
    "            pass\n",
    "        else:\n",
    "            incorr_pred = incorr_pred + 1\n",
    "            if y[j] == 1:\n",
    "                w = w + X[j]\n",
    "            elif y[j] == -1:\n",
    "                w = w - X[j]\n",
    "            #print(f'the vector w{i} is {w}')\n",
    "    if incorr_pred == 0:\n",
    "            break\n",
    "    print(f'number of total incorrect predictions in epoch {i}=', incorr_pred) "
   ]
  },
  {
   "cell_type": "markdown",
   "metadata": {
    "id": "iVxGOLbocqVv"
   },
   "source": [
    "## Problem 10\n",
    "Visualize the weight vector and the decision boundary.\n",
    "\n"
   ]
  },
  {
   "cell_type": "code",
   "execution_count": 145,
   "metadata": {},
   "outputs": [],
   "source": [
    "#Not possible."
   ]
  },
  {
   "cell_type": "code",
   "execution_count": null,
   "metadata": {},
   "outputs": [],
   "source": []
  }
 ],
 "metadata": {
  "colab": {
   "provenance": []
  },
  "kernelspec": {
   "display_name": "Python 3 (ipykernel)",
   "language": "python",
   "name": "python3"
  },
  "language_info": {
   "codemirror_mode": {
    "name": "ipython",
    "version": 3
   },
   "file_extension": ".py",
   "mimetype": "text/x-python",
   "name": "python",
   "nbconvert_exporter": "python",
   "pygments_lexer": "ipython3",
   "version": "3.9.13"
  }
 },
 "nbformat": 4,
 "nbformat_minor": 1
}
