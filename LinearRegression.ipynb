{
 "cells": [
  {
   "cell_type": "code",
   "execution_count": 1,
   "metadata": {},
   "outputs": [
    {
     "name": "stderr",
     "output_type": "stream",
     "text": [
      "2023-01-05 17:02:55.943111: I tensorflow/core/platform/cpu_feature_guard.cc:193] This TensorFlow binary is optimized with oneAPI Deep Neural Network Library (oneDNN) to use the following CPU instructions in performance-critical operations:  AVX2 FMA\n",
      "To enable them in other operations, rebuild TensorFlow with the appropriate compiler flags.\n",
      "2023-01-05 17:02:56.178847: W tensorflow/compiler/xla/stream_executor/platform/default/dso_loader.cc:64] Could not load dynamic library 'libcudart.so.11.0'; dlerror: libcudart.so.11.0: cannot open shared object file: No such file or directory\n",
      "2023-01-05 17:02:56.178888: I tensorflow/compiler/xla/stream_executor/cuda/cudart_stub.cc:29] Ignore above cudart dlerror if you do not have a GPU set up on your machine.\n",
      "2023-01-05 17:02:57.276188: W tensorflow/compiler/xla/stream_executor/platform/default/dso_loader.cc:64] Could not load dynamic library 'libnvinfer.so.7'; dlerror: libnvinfer.so.7: cannot open shared object file: No such file or directory\n",
      "2023-01-05 17:02:57.276256: W tensorflow/compiler/xla/stream_executor/platform/default/dso_loader.cc:64] Could not load dynamic library 'libnvinfer_plugin.so.7'; dlerror: libnvinfer_plugin.so.7: cannot open shared object file: No such file or directory\n",
      "2023-01-05 17:02:57.276262: W tensorflow/compiler/tf2tensorrt/utils/py_utils.cc:38] TF-TRT Warning: Cannot dlopen some TensorRT libraries. If you would like to use Nvidia GPU with TensorRT, please make sure the missing libraries mentioned above are installed properly.\n"
     ]
    }
   ],
   "source": [
    "import numpy as np\n",
    "import matplotlib.pyplot as plt\n",
    "from keras.datasets import boston_housing"
   ]
  },
  {
   "cell_type": "code",
   "execution_count": 248,
   "metadata": {},
   "outputs": [],
   "source": [
    "Train, test = boston_housing.load_data(seed= 111)\n",
    "Training_data, labels = Train[0], Train[1]\n",
    "Test_data, test_labels = test[0], test[1]\n",
    "X=Training_data.T\n",
    "Y=Training_data.reshape(Training_data.shape[0],1)"
   ]
  },
  {
   "cell_type": "code",
   "execution_count": 249,
   "metadata": {},
   "outputs": [
    {
     "name": "stdout",
     "output_type": "stream",
     "text": [
      "(13, 102)\n"
     ]
    },
    {
     "data": {
      "text/plain": [
       "(102, 13)"
      ]
     },
     "execution_count": 249,
     "metadata": {},
     "output_type": "execute_result"
    }
   ],
   "source": [
    "print(X.shape)\n",
    "Y.shape\n",
    "Test_data.shape"
   ]
  },
  {
   "cell_type": "code",
   "execution_count": 250,
   "metadata": {},
   "outputs": [
    {
     "data": {
      "text/plain": [
       "(14, 102)"
      ]
     },
     "execution_count": 250,
     "metadata": {},
     "output_type": "execute_result"
    }
   ],
   "source": [
    "dummy=np.ones(X.shape[1]).reshape(1,X.shape[1])\n",
    "np.row_stack((dummy,X)).shape"
   ]
  },
  {
   "cell_type": "code",
   "execution_count": 251,
   "metadata": {},
   "outputs": [],
   "source": [
    "def weights(X,Y):\n",
    "    return np.linalg.pinv(X@X.T)@X@Y"
   ]
  },
  {
   "cell_type": "code",
   "execution_count": 252,
   "metadata": {},
   "outputs": [
    {
     "data": {
      "text/plain": [
       "13.24909916995255"
      ]
     },
     "execution_count": 252,
     "metadata": {},
     "output_type": "execute_result"
    }
   ],
   "source": [
    "w=weights(X,Y)\n",
    "np.sum(w)"
   ]
  },
  {
   "cell_type": "code",
   "execution_count": 253,
   "metadata": {},
   "outputs": [],
   "source": [
    "def predict(X,w):\n",
    "    return X.T@w"
   ]
  },
  {
   "cell_type": "code",
   "execution_count": 254,
   "metadata": {},
   "outputs": [
    {
     "data": {
      "text/plain": [
       "array([[22.94366998],\n",
       "       [ 3.79750262],\n",
       "       [16.73214815],\n",
       "       [19.37961085],\n",
       "       [42.87331538],\n",
       "       [18.75819852],\n",
       "       [19.09146485],\n",
       "       [23.89720329],\n",
       "       [26.13191639],\n",
       "       [40.08920598],\n",
       "       [26.25929638],\n",
       "       [31.17065373],\n",
       "       [18.35497745],\n",
       "       [22.8934286 ],\n",
       "       [25.23657023],\n",
       "       [35.42637302],\n",
       "       [17.35174529],\n",
       "       [19.97293175],\n",
       "       [21.50351305],\n",
       "       [26.31155297],\n",
       "       [37.01092885],\n",
       "       [20.14332413],\n",
       "       [26.72531275],\n",
       "       [24.62751627],\n",
       "       [27.41354833],\n",
       "       [20.83196923],\n",
       "       [24.19911046],\n",
       "       [11.52915793],\n",
       "       [36.64234267],\n",
       "       [22.71104882],\n",
       "       [18.44690816],\n",
       "       [22.34830746],\n",
       "       [24.19739316],\n",
       "       [26.02526887],\n",
       "       [24.08718034],\n",
       "       [24.41261586],\n",
       "       [25.36767952],\n",
       "       [31.86799068],\n",
       "       [10.65326752],\n",
       "       [26.39599124],\n",
       "       [15.06287434],\n",
       "       [26.93834435],\n",
       "       [24.91216436],\n",
       "       [20.36675606],\n",
       "       [15.28348599],\n",
       "       [15.38849915],\n",
       "       [12.01388931],\n",
       "       [20.33516702],\n",
       "       [27.10507924],\n",
       "       [18.75453417],\n",
       "       [25.66059693],\n",
       "       [33.92159659],\n",
       "       [34.67481614],\n",
       "       [18.6003447 ],\n",
       "       [21.99057956],\n",
       "       [15.17396116],\n",
       "       [36.06414488],\n",
       "       [11.91915056],\n",
       "       [19.45979931],\n",
       "       [19.69012186],\n",
       "       [32.34279838],\n",
       "       [31.92177397],\n",
       "       [26.77656999],\n",
       "       [22.87154626],\n",
       "       [20.38424258],\n",
       "       [22.41913628],\n",
       "       [14.79877409],\n",
       "       [32.58755465],\n",
       "       [19.23896592],\n",
       "       [25.0616247 ],\n",
       "       [24.05501667],\n",
       "       [26.259364  ],\n",
       "       [15.2204225 ],\n",
       "       [37.00571775],\n",
       "       [21.64721965],\n",
       "       [19.48960239],\n",
       "       [23.23294031],\n",
       "       [35.39009935],\n",
       "       [19.29087699],\n",
       "       [18.93905425],\n",
       "       [ 6.86289555],\n",
       "       [22.12448783],\n",
       "       [34.54479582],\n",
       "       [21.20489572],\n",
       "       [19.81293827],\n",
       "       [16.96805792],\n",
       "       [30.45687019],\n",
       "       [39.21140473],\n",
       "       [17.31640856],\n",
       "       [18.17606672],\n",
       "       [15.19664011],\n",
       "       [25.5813393 ],\n",
       "       [11.58130385],\n",
       "       [18.38228838],\n",
       "       [23.65381043],\n",
       "       [24.49933786],\n",
       "       [34.6031056 ],\n",
       "       [21.01934775],\n",
       "       [17.61780022],\n",
       "       [14.39232927],\n",
       "       [37.70804713],\n",
       "       [22.73929735]])"
      ]
     },
     "execution_count": 254,
     "metadata": {},
     "output_type": "execute_result"
    }
   ],
   "source": [
    "predict(X,w)"
   ]
  },
  {
   "cell_type": "code",
   "execution_count": 255,
   "metadata": {},
   "outputs": [
    {
     "data": {
      "text/plain": [
       "23.330537408361618"
      ]
     },
     "execution_count": 255,
     "metadata": {},
     "output_type": "execute_result"
    }
   ],
   "source": [
    "np.average(predict(X,w))"
   ]
  },
  {
   "cell_type": "code",
   "execution_count": 256,
   "metadata": {},
   "outputs": [],
   "source": [
    "# Loss\n",
    "def loss(pred,Y):\n",
    "    # return np.sqrt(pred.shape[0])*np.linalg.norm(pred-Y)\n",
    "    return np.sqrt(np.mean(pred-Y)**2)"
   ]
  },
  {
   "cell_type": "code",
   "execution_count": 257,
   "metadata": {},
   "outputs": [
    {
     "data": {
      "text/plain": [
       "0.08809004261876537"
      ]
     },
     "execution_count": 257,
     "metadata": {},
     "output_type": "execute_result"
    }
   ],
   "source": [
    "loss(predict(X,w),Y)"
   ]
  },
  {
   "cell_type": "code",
   "execution_count": 258,
   "metadata": {},
   "outputs": [
    {
     "data": {
      "text/plain": [
       "1e-10"
      ]
     },
     "execution_count": 258,
     "metadata": {},
     "output_type": "execute_result"
    }
   ],
   "source": [
    "neta=10**(-10)\n",
    "neta"
   ]
  },
  {
   "cell_type": "code",
   "execution_count": 259,
   "metadata": {},
   "outputs": [],
   "source": [
    "def gradient(X,w):\n",
    "    return X@X.T@w-X@Y\n",
    "\n",
    "\n",
    "def gradientDescent(X,Y,neta,itr):\n",
    "    w=np.zeros(X.shape[0]).reshape(-1,1)\n",
    "    for i in range(itr):\n",
    "        w-=neta*gradient(X,w)\n",
    "    return w"
   ]
  },
  {
   "cell_type": "code",
   "execution_count": 268,
   "metadata": {},
   "outputs": [
    {
     "data": {
      "text/plain": [
       "0.018228267939873425"
      ]
     },
     "execution_count": 268,
     "metadata": {},
     "output_type": "execute_result"
    }
   ],
   "source": [
    "w_d=gradientDescent(X,Y,neta,100)\n",
    "np.sum(w_d)"
   ]
  },
  {
   "cell_type": "code",
   "execution_count": 263,
   "metadata": {},
   "outputs": [
    {
     "data": {
      "text/plain": [
       "17.366378435379755"
      ]
     },
     "execution_count": 263,
     "metadata": {},
     "output_type": "execute_result"
    }
   ],
   "source": [
    "loss(predict(X,w_d),Y)"
   ]
  },
  {
   "cell_type": "code",
   "execution_count": null,
   "metadata": {},
   "outputs": [],
   "source": [
    "def SGD(X,Y,neta,itr):\n",
    "    w_s=np.zeros(X.shape[0]).reshape(13,1)"
   ]
  }
 ],
 "metadata": {
  "kernelspec": {
   "display_name": ".maclearn",
   "language": "python",
   "name": "python3"
  },
  "language_info": {
   "codemirror_mode": {
    "name": "ipython",
    "version": 3
   },
   "file_extension": ".py",
   "mimetype": "text/x-python",
   "name": "python",
   "nbconvert_exporter": "python",
   "pygments_lexer": "ipython3",
   "version": "3.10.0 (default, Dec 25 2022, 13:50:48) [GCC 11.3.0]"
  },
  "orig_nbformat": 4,
  "vscode": {
   "interpreter": {
    "hash": "5316de1a9cc1e7b462282e00f8f3dcec5935bf97e96761a4898abc4d6effd381"
   }
  }
 },
 "nbformat": 4,
 "nbformat_minor": 2
}
