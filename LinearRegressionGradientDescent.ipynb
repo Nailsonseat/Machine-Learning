{
 "cells": [
  {
   "attachments": {},
   "cell_type": "markdown",
   "metadata": {},
   "source": [
    "## Importing libraries"
   ]
  },
  {
   "cell_type": "code",
   "execution_count": 164,
   "metadata": {},
   "outputs": [],
   "source": [
    "import numpy as np\n",
    "import matplotlib.pyplot as plt\n",
    "from keras.datasets import boston_housing"
   ]
  },
  {
   "attachments": {},
   "cell_type": "markdown",
   "metadata": {},
   "source": [
    "## Data pre processing"
   ]
  },
  {
   "cell_type": "code",
   "execution_count": 165,
   "metadata": {},
   "outputs": [],
   "source": [
    "Train, test = boston_housing.load_data(seed= 0)\n",
    "Training_data, labels = Train[0], Train[1]\n",
    "Test_data, test_labels = test[0], test[1]\n",
    "Test_data=Test_data.T\n",
    "test_labels=test_labels.reshape(test_labels.shape[0],1)\n",
    "X=Training_data.T\n",
    "Y=labels.reshape(labels.shape[0],1)"
   ]
  },
  {
   "attachments": {},
   "cell_type": "markdown",
   "metadata": {},
   "source": [
    "### Print shape training data"
   ]
  },
  {
   "cell_type": "code",
   "execution_count": 166,
   "metadata": {},
   "outputs": [
    {
     "name": "stdout",
     "output_type": "stream",
     "text": [
      "(13, 404)\n",
      "(404, 1)\n"
     ]
    }
   ],
   "source": [
    "print(X.shape)\n",
    "print(Y.shape)"
   ]
  },
  {
   "attachments": {},
   "cell_type": "markdown",
   "metadata": {},
   "source": [
    "### Print shape test data"
   ]
  },
  {
   "cell_type": "code",
   "execution_count": 167,
   "metadata": {},
   "outputs": [
    {
     "name": "stdout",
     "output_type": "stream",
     "text": [
      "(13, 102)\n",
      "(102, 1)\n"
     ]
    }
   ],
   "source": [
    "print(Test_data.shape)\n",
    "print(test_labels.shape)"
   ]
  },
  {
   "attachments": {},
   "cell_type": "markdown",
   "metadata": {},
   "source": [
    "### Adding dummmy feature"
   ]
  },
  {
   "cell_type": "code",
   "execution_count": 168,
   "metadata": {},
   "outputs": [
    {
     "data": {
      "text/plain": [
       "(14, 404)"
      ]
     },
     "execution_count": 168,
     "metadata": {},
     "output_type": "execute_result"
    }
   ],
   "source": [
    "dummy=np.ones(X.shape[1]).reshape(1,-1)\n",
    "X=np.row_stack((dummy,X))\n",
    "X.shape"
   ]
  },
  {
   "cell_type": "code",
   "execution_count": 169,
   "metadata": {},
   "outputs": [
    {
     "data": {
      "text/plain": [
       "(14, 102)"
      ]
     },
     "execution_count": 169,
     "metadata": {},
     "output_type": "execute_result"
    }
   ],
   "source": [
    "dummy=np.ones(Test_data.shape[1]).reshape(1,-1)\n",
    "Test_data=np.row_stack((dummy,Test_data))\n",
    "Test_data.shape"
   ]
  },
  {
   "attachments": {},
   "cell_type": "markdown",
   "metadata": {},
   "source": [
    "### Gradient Funtion"
   ]
  },
  {
   "cell_type": "code",
   "execution_count": 170,
   "metadata": {},
   "outputs": [],
   "source": [
    "def gradient(X,Y,w):\n",
    "    return X@X.T@w-X@Y"
   ]
  },
  {
   "attachments": {},
   "cell_type": "markdown",
   "metadata": {},
   "source": [
    "### Calculation of weights"
   ]
  },
  {
   "cell_type": "code",
   "execution_count": 171,
   "metadata": {},
   "outputs": [],
   "source": [
    "def predict(X,w):\n",
    "    return X.T@w"
   ]
  },
  {
   "cell_type": "code",
   "execution_count": 172,
   "metadata": {},
   "outputs": [],
   "source": [
    "neta=10**(-8)\n",
    "iterations=10**(5)"
   ]
  },
  {
   "cell_type": "code",
   "execution_count": 173,
   "metadata": {},
   "outputs": [
    {
     "data": {
      "text/plain": [
       "array([[ 0.14380205],\n",
       "       [-0.08228478],\n",
       "       [ 0.07821242],\n",
       "       [ 0.01882818],\n",
       "       [ 0.10527898],\n",
       "       [ 0.06172906],\n",
       "       [ 1.47780048],\n",
       "       [ 0.08126608],\n",
       "       [-0.05977978],\n",
       "       [ 0.13717916],\n",
       "       [-0.00746948],\n",
       "       [ 0.51102679],\n",
       "       [ 0.02432635],\n",
       "       [-0.76502768]])"
      ]
     },
     "execution_count": 173,
     "metadata": {},
     "output_type": "execute_result"
    }
   ],
   "source": [
    "w=np.zeros(X.shape[0]).reshape(-1,1)\n",
    "for i in range(iterations):\n",
    "    w-=neta*gradient(X,Y,w)\n",
    "w"
   ]
  },
  {
   "attachments": {},
   "cell_type": "markdown",
   "metadata": {},
   "source": [
    "## Loss functions for Linear Regression (Gradient Descent)"
   ]
  },
  {
   "cell_type": "code",
   "execution_count": 174,
   "metadata": {},
   "outputs": [],
   "source": [
    "def loss(y_hat,y):\n",
    "    return np.sqrt(np.mean((y_hat-y)**2))"
   ]
  },
  {
   "attachments": {},
   "cell_type": "markdown",
   "metadata": {},
   "source": [
    "### Print loss on training data"
   ]
  },
  {
   "cell_type": "code",
   "execution_count": 175,
   "metadata": {},
   "outputs": [
    {
     "data": {
      "text/plain": [
       "6.184690460130995"
      ]
     },
     "execution_count": 175,
     "metadata": {},
     "output_type": "execute_result"
    }
   ],
   "source": [
    "loss(predict(X,w),Y)"
   ]
  },
  {
   "attachments": {},
   "cell_type": "markdown",
   "metadata": {},
   "source": [
    "### Print loss on test data"
   ]
  },
  {
   "cell_type": "code",
   "execution_count": 176,
   "metadata": {},
   "outputs": [
    {
     "data": {
      "text/plain": [
       "6.289620967423625"
      ]
     },
     "execution_count": 176,
     "metadata": {},
     "output_type": "execute_result"
    }
   ],
   "source": [
    "loss(predict(Test_data,w),test_labels)"
   ]
  },
  {
   "attachments": {},
   "cell_type": "markdown",
   "metadata": {},
   "source": [
    "### Stochastic gradient descent"
   ]
  },
  {
   "cell_type": "code",
   "execution_count": 177,
   "metadata": {},
   "outputs": [],
   "source": [
    "def SGD(X,Y,neta,iterations):\n",
    "    w=np.zeros(X.shape[0]).reshape(-1,1)\n",
    "    for i in range(iterations):\n",
    "        rng=np.random.default_rng(seed=i)\n",
    "        indices=rng.integers(X.shape[1],size=X.shape[1]//5)\n",
    "        X_batch,Y_batch=X[:,indices],Y[indices]\n",
    "        w-=neta*gradient(X_batch,Y_batch,w)\n",
    "    return w"
   ]
  },
  {
   "cell_type": "code",
   "execution_count": 178,
   "metadata": {},
   "outputs": [],
   "source": [
    "w=SGD(X,Y,neta,iterations)"
   ]
  },
  {
   "attachments": {},
   "cell_type": "markdown",
   "metadata": {},
   "source": [
    "## Loss functions for Linear regression (Stochastic Gradient Descent)"
   ]
  },
  {
   "attachments": {},
   "cell_type": "markdown",
   "metadata": {},
   "source": [
    "### Print loss on training data"
   ]
  },
  {
   "cell_type": "code",
   "execution_count": 179,
   "metadata": {},
   "outputs": [
    {
     "data": {
      "text/plain": [
       "6.829795754722626"
      ]
     },
     "execution_count": 179,
     "metadata": {},
     "output_type": "execute_result"
    }
   ],
   "source": [
    "loss(predict(X,w),Y)"
   ]
  },
  {
   "attachments": {},
   "cell_type": "markdown",
   "metadata": {},
   "source": [
    "### Print loss on test data"
   ]
  },
  {
   "cell_type": "code",
   "execution_count": 180,
   "metadata": {},
   "outputs": [
    {
     "data": {
      "text/plain": [
       "7.075872432219052"
      ]
     },
     "execution_count": 180,
     "metadata": {},
     "output_type": "execute_result"
    }
   ],
   "source": [
    "loss(predict(Test_data,w),test_labels)"
   ]
  }
 ],
 "metadata": {
  "kernelspec": {
   "display_name": ".maclearn",
   "language": "python",
   "name": "python3"
  },
  "language_info": {
   "codemirror_mode": {
    "name": "ipython",
    "version": 3
   },
   "file_extension": ".py",
   "mimetype": "text/x-python",
   "name": "python",
   "nbconvert_exporter": "python",
   "pygments_lexer": "ipython3",
   "version": "3.10.0"
  },
  "orig_nbformat": 4,
  "vscode": {
   "interpreter": {
    "hash": "5316de1a9cc1e7b462282e00f8f3dcec5935bf97e96761a4898abc4d6effd381"
   }
  }
 },
 "nbformat": 4,
 "nbformat_minor": 2
}
