{
 "cells": [
  {
   "attachments": {},
   "cell_type": "markdown",
   "metadata": {},
   "source": [
    "## Importing Libraries"
   ]
  },
  {
   "cell_type": "code",
   "execution_count": 234,
   "metadata": {},
   "outputs": [],
   "source": [
    "import numpy as np\n",
    "import matplotlib.pyplot as plt\n",
    "from sklearn.datasets import load_diabetes"
   ]
  },
  {
   "attachments": {},
   "cell_type": "markdown",
   "metadata": {},
   "source": [
    "## Data Preprocessing"
   ]
  },
  {
   "cell_type": "code",
   "execution_count": 235,
   "metadata": {},
   "outputs": [],
   "source": [
    "X, y = load_diabetes(return_X_y=True)\n",
    "X=X.T\n",
    "y=y.reshape(-1,1)\n",
    "\n",
    "# set the random seed value to 0\n",
    "np.random.seed(0)"
   ]
  },
  {
   "attachments": {},
   "cell_type": "markdown",
   "metadata": {},
   "source": [
    "### Printing Shapes"
   ]
  },
  {
   "cell_type": "code",
   "execution_count": 236,
   "metadata": {},
   "outputs": [
    {
     "name": "stdout",
     "output_type": "stream",
     "text": [
      "(10, 442)\n",
      "(442, 1)\n"
     ]
    }
   ],
   "source": [
    "print(X.shape)\n",
    "print(y.shape)"
   ]
  },
  {
   "attachments": {},
   "cell_type": "markdown",
   "metadata": {},
   "source": [
    "### Shuffle Function"
   ]
  },
  {
   "cell_type": "code",
   "execution_count": 237,
   "metadata": {},
   "outputs": [],
   "source": [
    "def shuffle(X,y):\n",
    "    indices = np.arange(X.shape[1])\n",
    "    np.random.shuffle(indices)\n",
    "    return X[:,indices],y[indices]"
   ]
  },
  {
   "cell_type": "code",
   "execution_count": 238,
   "metadata": {},
   "outputs": [
    {
     "name": "stdout",
     "output_type": "stream",
     "text": [
      "(10, 442)\n",
      "(442, 1)\n"
     ]
    }
   ],
   "source": [
    "X,y=shuffle(X,y)\n",
    "print(X.shape)\n",
    "print(y.shape)"
   ]
  },
  {
   "attachments": {},
   "cell_type": "markdown",
   "metadata": {},
   "source": [
    "### Extracting data"
   ]
  },
  {
   "cell_type": "code",
   "execution_count": 239,
   "metadata": {},
   "outputs": [],
   "source": [
    "def dataSplit(X,y,testDataFraction):\n",
    "    trainingDataSize=int(len(y)-len(y)*testDataFraction)\n",
    "    X_train,X_test=X[:,:trainingDataSize],X[:,trainingDataSize:]\n",
    "    y_train,y_test=y[:trainingDataSize],y[trainingDataSize:]\n",
    "    return X_train,y_train,X_test,y_test"
   ]
  },
  {
   "cell_type": "code",
   "execution_count": 240,
   "metadata": {},
   "outputs": [],
   "source": [
    "X_train,y_train,X_test,y_test=dataSplit(X,y,0.25)"
   ]
  },
  {
   "attachments": {},
   "cell_type": "markdown",
   "metadata": {},
   "source": [
    "### Adding dummy feature to training and test data"
   ]
  },
  {
   "cell_type": "code",
   "execution_count": 241,
   "metadata": {},
   "outputs": [],
   "source": [
    "dummy=np.ones(X_train.shape[1])\n",
    "X_train=np.row_stack((dummy,X_train))\n",
    "dummy=np.ones(X_test.shape[1])\n",
    "X_test=np.row_stack((dummy,X_test))"
   ]
  },
  {
   "attachments": {},
   "cell_type": "markdown",
   "metadata": {},
   "source": [
    "### Print Shape of the test and train data"
   ]
  },
  {
   "cell_type": "code",
   "execution_count": 242,
   "metadata": {},
   "outputs": [
    {
     "name": "stdout",
     "output_type": "stream",
     "text": [
      "X train (11, 331)\n",
      "Y train (331, 1)\n",
      "X test (11, 111)\n",
      "Y test (111, 1)\n"
     ]
    }
   ],
   "source": [
    "print(f\"X train {X_train.shape}\")\n",
    "print(f\"Y train {y_train.shape}\")\n",
    "print(f\"X test {X_test.shape}\")\n",
    "print(f\"Y test {y_test.shape}\")"
   ]
  },
  {
   "attachments": {},
   "cell_type": "markdown",
   "metadata": {},
   "source": [
    "## Model 1 : Equating loss to zero"
   ]
  },
  {
   "cell_type": "code",
   "execution_count": 243,
   "metadata": {},
   "outputs": [],
   "source": [
    "def weights(X,y):\n",
    "    return np.linalg.pinv(X@X.T)@X@y"
   ]
  },
  {
   "attachments": {},
   "cell_type": "markdown",
   "metadata": {},
   "source": [
    "### Predict Function"
   ]
  },
  {
   "cell_type": "code",
   "execution_count": 244,
   "metadata": {},
   "outputs": [],
   "source": [
    "def predict(X,w):\n",
    "    return X.T@w"
   ]
  },
  {
   "attachments": {},
   "cell_type": "markdown",
   "metadata": {},
   "source": [
    "### Loss Function (Mean  Squared Error)"
   ]
  },
  {
   "cell_type": "code",
   "execution_count": 245,
   "metadata": {},
   "outputs": [],
   "source": [
    "def loss(y_hat,y):\n",
    "    return np.mean((y_hat-y)**2)"
   ]
  },
  {
   "attachments": {},
   "cell_type": "markdown",
   "metadata": {},
   "source": [
    "### Generate weights"
   ]
  },
  {
   "cell_type": "code",
   "execution_count": 246,
   "metadata": {},
   "outputs": [],
   "source": [
    "w=weights(X_train,y_train)\n",
    "y_hat=predict(X_train,w)"
   ]
  },
  {
   "attachments": {},
   "cell_type": "markdown",
   "metadata": {},
   "source": [
    "### Print loss"
   ]
  },
  {
   "cell_type": "code",
   "execution_count": 247,
   "metadata": {},
   "outputs": [
    {
     "name": "stdout",
     "output_type": "stream",
     "text": [
      "Mean Squared loss : 2930.5966982870527\n",
      "Root Mean Squared loss : 54.13498589901962\n"
     ]
    }
   ],
   "source": [
    "print(f\"Mean Squared loss : {loss(y_hat,y_train)}\")\n",
    "print(f\"Root Mean Squared loss : {np.sqrt(loss(y_hat,y_train))}\")"
   ]
  },
  {
   "attachments": {},
   "cell_type": "markdown",
   "metadata": {},
   "source": [
    "## Ridge Regression"
   ]
  },
  {
   "cell_type": "code",
   "execution_count": 248,
   "metadata": {},
   "outputs": [],
   "source": [
    "def ridge_weights(X, y,l):\n",
    "    return (np.linalg.pinv((X@X.T) + l*np.eye(X.shape[0])))@X@y"
   ]
  },
  {
   "cell_type": "code",
   "execution_count": 249,
   "metadata": {},
   "outputs": [],
   "source": [
    "r_w=ridge_weights(X_train,y_train,0.3)\n",
    "r_y_hat=predict(X_train,r_w)"
   ]
  },
  {
   "attachments": {},
   "cell_type": "markdown",
   "metadata": {},
   "source": [
    "### Print Ridge loss"
   ]
  },
  {
   "cell_type": "code",
   "execution_count": 250,
   "metadata": {},
   "outputs": [
    {
     "name": "stdout",
     "output_type": "stream",
     "text": [
      "Mean Squared loss : 3068.292718609828\n",
      "Root Mean Squared loss : 55.39217199758309\n"
     ]
    }
   ],
   "source": [
    "print(f\"Mean Squared loss : {loss(r_y_hat,y_train)}\")\n",
    "print(f\"Root Mean Squared loss : {np.sqrt(loss(r_y_hat,y_train))}\")"
   ]
  },
  {
   "attachments": {},
   "cell_type": "markdown",
   "metadata": {},
   "source": [
    "## Loss on Test data"
   ]
  },
  {
   "attachments": {},
   "cell_type": "markdown",
   "metadata": {},
   "source": [
    "### Linear Regression"
   ]
  },
  {
   "cell_type": "code",
   "execution_count": 251,
   "metadata": {},
   "outputs": [
    {
     "name": "stdout",
     "output_type": "stream",
     "text": [
      "Mean Squared loss : 2719.699432760726\n",
      "Root Mean Squared loss : 52.150737605145395\n"
     ]
    }
   ],
   "source": [
    "y_hat=predict(X_test,w)\n",
    "print(f\"Mean Squared loss : {loss(y_hat,y_test)}\")\n",
    "print(f\"Root Mean Squared loss : {np.sqrt(loss(y_hat,y_test))}\")"
   ]
  },
  {
   "attachments": {},
   "cell_type": "markdown",
   "metadata": {},
   "source": [
    "### Ridge Regression"
   ]
  },
  {
   "cell_type": "code",
   "execution_count": 252,
   "metadata": {},
   "outputs": [
    {
     "name": "stdout",
     "output_type": "stream",
     "text": [
      "Mean Squared loss : 2934.6703704183456\n",
      "Root Mean Squared loss : 54.17259796629977\n"
     ]
    }
   ],
   "source": [
    "r_y_hat=predict(X_test,r_w)\n",
    "print(f\"Mean Squared loss : {loss(r_y_hat,y_test)}\")\n",
    "print(f\"Root Mean Squared loss : {np.sqrt(loss(r_y_hat,y_test))}\")"
   ]
  }
 ],
 "metadata": {
  "kernelspec": {
   "display_name": ".maclearn",
   "language": "python",
   "name": "python3"
  },
  "language_info": {
   "codemirror_mode": {
    "name": "ipython",
    "version": 3
   },
   "file_extension": ".py",
   "mimetype": "text/x-python",
   "name": "python",
   "nbconvert_exporter": "python",
   "pygments_lexer": "ipython3",
   "version": "3.10.0 (default, Dec 25 2022, 13:50:48) [GCC 11.3.0]"
  },
  "orig_nbformat": 4,
  "vscode": {
   "interpreter": {
    "hash": "5316de1a9cc1e7b462282e00f8f3dcec5935bf97e96761a4898abc4d6effd381"
   }
  }
 },
 "nbformat": 4,
 "nbformat_minor": 2
}
