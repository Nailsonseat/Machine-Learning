{
 "cells": [
  {
   "cell_type": "code",
   "execution_count": 297,
   "metadata": {},
   "outputs": [],
   "source": [
    "import numpy as np\n",
    "import matplotlib.pyplot as plt\n",
    "from sklearn.datasets import make_classification"
   ]
  },
  {
   "cell_type": "code",
   "execution_count": 298,
   "metadata": {},
   "outputs": [
    {
     "data": {
      "text/plain": [
       "array([[ 4.35809465, -4.19871954],\n",
       "       [ 2.70007032, -2.60830647],\n",
       "       [ 2.92613113, -2.17831489],\n",
       "       [ 2.70492468, -2.55866532],\n",
       "       [ 1.40403442, -3.91361837],\n",
       "       [ 3.03688252, -2.49014793],\n",
       "       [ 2.74256066, -2.92751451],\n",
       "       [-2.53147281, -3.04571493],\n",
       "       [-1.90652352, -3.03365141],\n",
       "       [ 3.55224854, -4.02550689],\n",
       "       [-2.43721593, -2.99106651],\n",
       "       [-3.82089441, -2.96537062],\n",
       "       [-3.24465415, -2.86970741],\n",
       "       [ 4.2121494 , -3.5532501 ],\n",
       "       [-2.99695052, -3.12043248],\n",
       "       [-3.01117738, -2.95287757],\n",
       "       [ 3.56210053, -2.37323926],\n",
       "       [ 1.19234332, -2.86901581],\n",
       "       [-2.95439198, -2.98535095],\n",
       "       [ 1.94746997, -3.32751504],\n",
       "       [-3.04821703, -2.95157601],\n",
       "       [ 3.09959095, -3.0366794 ],\n",
       "       [-2.68400642, -3.06622593],\n",
       "       [-2.64798924, -3.02054159],\n",
       "       [ 3.77398178, -3.87848502],\n",
       "       [-2.02398505, -3.14576247],\n",
       "       [ 1.95338326, -1.29777093],\n",
       "       [-3.13696594, -3.03770104],\n",
       "       [ 4.13223512, -2.22613331],\n",
       "       [ 3.61161689, -1.54972885],\n",
       "       [-2.29146275, -3.06222302],\n",
       "       [ 2.28603659, -2.402637  ],\n",
       "       [-2.43453297, -3.12676966],\n",
       "       [ 3.27785771, -2.26092763],\n",
       "       [-3.40755161, -2.94077325],\n",
       "       [ 3.44739526, -3.03246223],\n",
       "       [ 2.43697964, -2.53407509],\n",
       "       [-2.76223727, -3.10148042],\n",
       "       [-2.87979009, -3.08237552],\n",
       "       [-2.60693185, -3.02044572],\n",
       "       [-2.59736648, -2.99673965],\n",
       "       [ 2.3377644 , -3.68547144],\n",
       "       [ 3.47758161, -2.90769394],\n",
       "       [-2.89202149, -3.05059342],\n",
       "       [-2.98141606, -2.91060218],\n",
       "       [-2.54812645, -3.03655031],\n",
       "       [-3.30073539, -3.03143928],\n",
       "       [ 0.85750064, -3.58817043],\n",
       "       [ 3.21773047, -3.32663048],\n",
       "       [-3.15291477, -2.9942445 ]])"
      ]
     },
     "execution_count": 298,
     "metadata": {},
     "output_type": "execute_result"
    }
   ],
   "source": [
    "x,y=make_classification(n_samples=50,n_features=2,n_redundant=0,n_informative=2,n_clusters_per_class=1,flip_y=0,class_sep=3,random_state=20)\n",
    "x"
   ]
  },
  {
   "cell_type": "code",
   "execution_count": 299,
   "metadata": {},
   "outputs": [],
   "source": [
    "#### DATA: DO NOT EDIT THIS CELL ####\n",
    "X = np.array([[1, -3], [1, 0], [4, 1], [3, 7], [0, -2],\n",
    "             [-1, -6], [2, 5], [1, 2], [0, -1], [-1, -4],\n",
    "             [0, 7], [1, 5], [-4, 4], [2, 9], [-2, 2],\n",
    "             [-2, 0], [-3, -2], [-2, -4], [3, 10], [-3, -8]]).T\n",
    "Y = np.array([1, 1, 1, 1, 1,\n",
    "             1, 1, 1, 1, 1,\n",
    "             -1, -1, -1, -1, -1,\n",
    "             -1, -1, -1, -1, -1])"
   ]
  },
  {
   "cell_type": "code",
   "execution_count": 300,
   "metadata": {},
   "outputs": [
    {
     "name": "stdout",
     "output_type": "stream",
     "text": [
      "(2, 20)\n"
     ]
    },
    {
     "data": {
      "text/plain": [
       "(20,)"
      ]
     },
     "execution_count": 300,
     "metadata": {},
     "output_type": "execute_result"
    }
   ],
   "source": [
    "print(X.shape)\n",
    "Y.shape"
   ]
  },
  {
   "cell_type": "code",
   "execution_count": 301,
   "metadata": {},
   "outputs": [],
   "source": [
    "d,n=X.shape"
   ]
  },
  {
   "cell_type": "code",
   "execution_count": 302,
   "metadata": {},
   "outputs": [
    {
     "data": {
      "text/plain": [
       "<matplotlib.collections.PathCollection at 0x7fe1f5bc3c10>"
      ]
     },
     "execution_count": 302,
     "metadata": {},
     "output_type": "execute_result"
    },
    {
     "data": {
      "image/png": "[encoded data removed]",
      "text/plain": [
       "<Figure size 640x480 with 1 Axes>"
      ]
     },
     "metadata": {},
     "output_type": "display_data"
    }
   ],
   "source": [
    "plt.scatter(X[0,:],X[1,:],c=Y)"
   ]
  },
  {
   "cell_type": "code",
   "execution_count": 303,
   "metadata": {},
   "outputs": [
    {
     "data": {
      "text/plain": [
       "(20, 20)"
      ]
     },
     "execution_count": 303,
     "metadata": {},
     "output_type": "execute_result"
    }
   ],
   "source": [
    "np.diag(Y).shape"
   ]
  },
  {
   "cell_type": "code",
   "execution_count": 304,
   "metadata": {},
   "outputs": [
    {
     "name": "stdout",
     "output_type": "stream",
     "text": [
      "1 and 1\n",
      "1 and 1\n",
      "1 and 1\n",
      "1 and 1\n",
      "1 and 1\n",
      "1 and 1\n",
      "1 and 1\n",
      "1 and 1\n",
      "1 and 1\n",
      "1 and 1\n",
      "1 and -1\n",
      "-1 and -1\n",
      "-1 and -1\n",
      "-1 and -1\n",
      "-1 and -1\n",
      "1 and -1\n",
      "1 and -1\n",
      "1 and -1\n",
      "1 and -1\n",
      "1 and 1\n",
      "1 and 1\n",
      "1 and 1\n",
      "-1 and 1\n",
      "1 and 1\n",
      "1 and 1\n",
      "-1 and 1\n",
      "1 and 1\n",
      "-1 and 1\n",
      "-1 and 1\n",
      "-1 and -1\n",
      "-1 and -1\n",
      "-1 and -1\n",
      "-1 and -1\n",
      "-1 and -1\n",
      "-1 and -1\n",
      "-1 and -1\n",
      "1 and -1\n",
      "1 and -1\n",
      "1 and 1\n",
      "1 and 1\n",
      "1 and 1\n",
      "-1 and 1\n",
      "1 and 1\n",
      "1 and 1\n",
      "1 and 1\n",
      "1 and 1\n",
      "1 and 1\n",
      "1 and 1\n",
      "-1 and -1\n",
      "-1 and -1\n",
      "-1 and -1\n",
      "-1 and -1\n",
      "-1 and -1\n",
      "-1 and -1\n",
      "-1 and -1\n",
      "-1 and -1\n",
      "1 and -1\n",
      "1 and 1\n",
      "1 and 1\n",
      "1 and 1\n",
      "-1 and 1\n",
      "1 and 1\n",
      "1 and 1\n",
      "-1 and 1\n",
      "1 and 1\n",
      "1 and 1\n",
      "-1 and 1\n",
      "-1 and -1\n",
      "-1 and -1\n",
      "-1 and -1\n",
      "-1 and -1\n",
      "-1 and -1\n",
      "-1 and -1\n",
      "-1 and -1\n",
      "-1 and -1\n",
      "-1 and -1\n",
      "1 and 1\n",
      "1 and 1\n",
      "1 and 1\n",
      "-1 and 1\n",
      "-1 and 1\n",
      "-1 and 1\n",
      "-1 and 1\n",
      "1 and 1\n",
      "1 and 1\n",
      "-1 and 1\n"
     ]
    }
   ],
   "source": [
    "#perceptron\n",
    "w=np.zeros(d)\n",
    "i=0\n",
    "while not np.all(w@X*Y>0):\n",
    "    if i==n-1:\n",
    "        i=0\n",
    "    yPred = 1 if w.T@X[:,i]>=0 else -1\n",
    "    print(f\"{yPred} and {Y[i]}\")\n",
    "    if yPred!=Y[i]:\n",
    "        w+=X[:,i]*Y[i]\n",
    "    i+=1"
   ]
  },
  {
   "cell_type": "code",
   "execution_count": 305,
   "metadata": {},
   "outputs": [
    {
     "data": {
      "text/plain": [
       "[<matplotlib.lines.Line2D at 0x7fe1f5d4bd50>]"
      ]
     },
     "execution_count": 305,
     "metadata": {},
     "output_type": "execute_result"
    },
    {
     "data": {
      "image/png": "[encoded data removed]",
      "text/plain": [
       "<Figure size 640x480 with 1 Axes>"
      ]
     },
     "metadata": {},
     "output_type": "display_data"
    }
   ],
   "source": [
    "s=np.linspace(-5,5)\n",
    "t=-w[0]/w[1]*s\n",
    "plt.scatter(X[0,:],X[1,:],c=Y)\n",
    "plt.plot(s,t)"
   ]
  },
  {
   "cell_type": "code",
   "execution_count": 306,
   "metadata": {},
   "outputs": [
    {
     "data": {
      "text/plain": [
       "array([[ 10,   1,   1, -18,   6,  17, -13,  -5,   3,  11,  21,  14,  16,\n",
       "         25,   8,   2,  -3, -10,  27, -21],\n",
       "       [  1,   1,   4,   3,   0,  -1,   2,   1,   0,  -1,   0,  -1,   4,\n",
       "         -2,   2,   2,   3,   2,  -3,   3],\n",
       "       [  1,   4,  17,  19,  -2, -10,  13,   6,  -1,  -8,  -7,  -9,  12,\n",
       "        -17,   6,   8,  14,  12, -22,  20],\n",
       "       [-18,   3,  19,  58, -14, -45,  41,  17,  -7, -31, -49, -38, -16,\n",
       "        -69,  -8,   6,  23,  34, -79,  65],\n",
       "       [  6,   0,  -2, -14,   4,  12, -10,  -4,   2,   8,  14,  10,   8,\n",
       "         18,   4,   0,  -4,  -8,  20, -16],\n",
       "       [ 17,  -1, -10, -45,  12,  37, -32, -13,   6,  25,  42,  31,  20,\n",
       "         56,  10,  -2, -15, -26,  63, -51],\n",
       "       [-13,   2,  13,  41, -10, -32,  29,  12,  -5, -22, -35, -27, -12,\n",
       "        -49,  -6,   4,  16,  24, -56,  46],\n",
       "       [ -5,   1,   6,  17,  -4, -13,  12,   5,  -2,  -9, -14, -11,  -4,\n",
       "        -20,  -2,   2,   7,  10, -23,  19],\n",
       "       [  3,   0,  -1,  -7,   2,   6,  -5,  -2,   1,   4,   7,   5,   4,\n",
       "          9,   2,   0,  -2,  -4,  10,  -8],\n",
       "       [ 11,  -1,  -8, -31,   8,  25, -22,  -9,   4,  17,  28,  21,  12,\n",
       "         38,   6,  -2, -11, -18,  43, -35],\n",
       "       [ 21,   0,  -7, -49,  14,  42, -35, -14,   7,  28,  49,  35,  28,\n",
       "         63,  14,   0, -14, -28,  70, -56],\n",
       "       [ 14,  -1,  -9, -38,  10,  31, -27, -11,   5,  21,  35,  26,  16,\n",
       "         47,   8,  -2, -13, -22,  53, -43],\n",
       "       [ 16,   4,  12, -16,   8,  20, -12,  -4,   4,  12,  28,  16,  32,\n",
       "         28,  16,   8,   4,  -8,  28, -20],\n",
       "       [ 25,  -2, -17, -69,  18,  56, -49, -20,   9,  38,  63,  47,  28,\n",
       "         85,  14,  -4, -24, -40,  96, -78],\n",
       "       [  8,   2,   6,  -8,   4,  10,  -6,  -2,   2,   6,  14,   8,  16,\n",
       "         14,   8,   4,   2,  -4,  14, -10],\n",
       "       [  2,   2,   8,   6,   0,  -2,   4,   2,   0,  -2,   0,  -2,   8,\n",
       "         -4,   4,   4,   6,   4,  -6,   6],\n",
       "       [ -3,   3,  14,  23,  -4, -15,  16,   7,  -2, -11, -14, -13,   4,\n",
       "        -24,   2,   6,  13,  14, -29,  25],\n",
       "       [-10,   2,  12,  34,  -8, -26,  24,  10,  -4, -18, -28, -22,  -8,\n",
       "        -40,  -4,   4,  14,  20, -46,  38],\n",
       "       [ 27,  -3, -22, -79,  20,  63, -56, -23,  10,  43,  70,  53,  28,\n",
       "         96,  14,  -6, -29, -46, 109, -89],\n",
       "       [-21,   3,  20,  65, -16, -51,  46,  19,  -8, -35, -56, -43, -20,\n",
       "        -78, -10,   6,  25,  38, -89,  73]])"
      ]
     },
     "execution_count": 306,
     "metadata": {},
     "output_type": "execute_result"
    }
   ],
   "source": [
    "p=Y\n",
    "Y=np.diag(Y)\n",
    "Q=Y.T@X.T@X@Y\n",
    "Q"
   ]
  },
  {
   "cell_type": "code",
   "execution_count": 307,
   "metadata": {},
   "outputs": [],
   "source": [
    "def f(alpha):\n",
    "    return 0.5*alpha@Q@alpha-alpha.sum()"
   ]
  },
  {
   "cell_type": "code",
   "execution_count": 309,
   "metadata": {},
   "outputs": [
    {
     "data": {
      "text/plain": [
       "array([0.        , 0.        , 0.        , 0.        , 0.        ,\n",
       "       0.        , 1.6353075 , 1.7023903 , 1.73069641, 1.70617853,\n",
       "       0.        , 0.        , 0.        , 0.        , 0.        ,\n",
       "       0.        , 0.        , 0.        , 1.657183  , 1.56824036])"
      ]
     },
     "execution_count": 309,
     "metadata": {},
     "output_type": "execute_result"
    }
   ],
   "source": [
    "alpha_init=np.ones(n)\n",
    "C=np.inf\n",
    "from scipy import optimize\n",
    "alpha_star=optimize.minimize(f,\n",
    "                      alpha_init,\n",
    "                      bounds=optimize.Bounds(0,C)).x\n",
    "alpha_star"
   ]
  },
  {
   "cell_type": "code",
   "execution_count": 295,
   "metadata": {},
   "outputs": [
    {
     "data": {
      "text/plain": [
       "array([ 3.0000129 , -1.00000962])"
      ]
     },
     "execution_count": 295,
     "metadata": {},
     "output_type": "execute_result"
    }
   ],
   "source": [
    "X[:,alpha_star>0]\n",
    "w_star=X@Y@alpha_star\n",
    "w_star"
   ]
  },
  {
   "cell_type": "code",
   "execution_count": 296,
   "metadata": {},
   "outputs": [
    {
     "data": {
      "text/plain": [
       "[<matplotlib.lines.Line2D at 0x7fe1f5d50a90>]"
      ]
     },
     "execution_count": 296,
     "metadata": {},
     "output_type": "execute_result"
    },
    {
     "data": {
      "image/png": "[encoded data removed]",
      "text/plain": [
       "<Figure size 640x480 with 1 Axes>"
      ]
     },
     "metadata": {},
     "output_type": "display_data"
    }
   ],
   "source": [
    "s=np.linspace(-5,5)\n",
    "t1=-w_star[0]/w_star[1]*s\n",
    "plt.scatter(X[0,:],X[1,:],c=p)\n",
    "plt.plot(s,t1)\n",
    "t2=-w_star[0]/w_star[1]*s+1/w_star[1]\n",
    "t3=-w_star[0]/w_star[1]*s-1/w_star[1]\n",
    "plt.plot(s,t2)\n",
    "plt.plot(s,t3)"
   ]
  },
  {
   "cell_type": "code",
   "execution_count": null,
   "metadata": {},
   "outputs": [],
   "source": []
  }
 ],
 "metadata": {
  "kernelspec": {
   "display_name": ".kernel",
   "language": "python",
   "name": "python3"
  },
  "language_info": {
   "codemirror_mode": {
    "name": "ipython",
    "version": 3
   },
   "file_extension": ".py",
   "mimetype": "text/x-python",
   "name": "python",
   "nbconvert_exporter": "python",
   "pygments_lexer": "ipython3",
   "version": "3.11.0 (main, Nov 18 2022, 16:45:47) [GCC 11.3.0]"
  },
  "orig_nbformat": 4,
  "vscode": {
   "interpreter": {
    "hash": "5f1e47faa986a22269a5eb835591804d9d44e50de9501500d97093fc8cc44a3b"
   }
  }
 },
 "nbformat": 4,
 "nbformat_minor": 2
}
